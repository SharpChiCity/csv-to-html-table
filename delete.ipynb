{
 "cells": [
  {
   "cell_type": "code",
   "execution_count": 1,
   "metadata": {
    "collapsed": true
   },
   "outputs": [],
   "source": [
    "from datetime import datetime\n",
    "import sys\n",
    "import time\n",
    "import sqlite3\n",
    "import logging\n",
    "import csv\n",
    "import random\n",
    "import os\n",
    "import shutil"
   ]
  },
  {
   "cell_type": "code",
   "execution_count": 2,
   "metadata": {
    "collapsed": true
   },
   "outputs": [],
   "source": [
    "qry0a = '''\n",
    "    create temporary table small_listings as\n",
    "    select currentPrice, datetime, date(datetime) \"date\", eventId, listingId, quantity\n",
    "    from listings\n",
    ";\n",
    "'''\n",
    "\n",
    "qry0b = '''\n",
    "    create index i on small_listings (eventId, datetime, currentPrice)\n",
    ";\n",
    "'''\n",
    "\n",
    "qry0c = '''\n",
    "    create index i1 on small_listings (eventId, date)\n",
    ";\n",
    "'''\n",
    "\n",
    "qry0_check = 'select count(distinct eventId) from small_listings'\n",
    "\n",
    "\n",
    "qry1a = '''\n",
    "    create temporary table low_price_table as\n",
    "    select eventId, datetime\n",
    "        , date(datetime, '-07 days') \"week_back_date\", datetime(datetime, '-001 minutes') \"minute_back_date\"\n",
    "        , min(currentPrice) \"low_price\"\n",
    "    from small_listings\n",
    "    group by 1,2,3,4\n",
    ";\n",
    "'''\n",
    "\n",
    "qry1b = '''\n",
    "    create index i2 on low_price_table (eventId, datetime)\n",
    ";\n",
    "'''\n",
    "\n",
    "qry2a = '''\n",
    "    create temporary table event_datetime as\n",
    "        select distinct eventId, datetime\n",
    "        from low_price_table\n",
    ";\n",
    "'''\n",
    "\n",
    "qry2b = '''\n",
    "    create index i3 on event_datetime (eventId, datetime)\n",
    ";\n",
    "'''\n",
    "\n",
    "qry2c = '''\n",
    "    create temp table with_last_time as\n",
    "    select lpt.eventId \"eventId\", lpt.datetime \"datetime\", lpt.low_price \"low_price\", max(ed.datetime) \"last_datetime\"\n",
    "    from \n",
    "        low_price_table lpt \n",
    "        left join event_datetime ed\n",
    "            on ed.eventId = lpt.eventId\n",
    "            and ed.datetime between lpt.week_back_date and lpt.minute_back_date\n",
    "    group by 1,2,3\n",
    ";\n",
    "'''\n",
    "\n",
    "qry3a = '''\n",
    "    create temporary table almost as\n",
    "    select\n",
    "        wlt.eventId \"eventId\"\n",
    "        , e.eventDateLocal \"eventDateLocal\"\n",
    "        , e.URL || '?sid=117035' \"game_URL\"\n",
    "        , wlt.datetime \"datetime\"\n",
    "        , date(wlt.datetime,'-001 days') \"yest_date\"\n",
    "        , wlt.low_price \"low_price\"\n",
    "        , lpt.low_price \"last_price\"\n",
    "        , face.faceValue \"faceValue\"\n",
    "        , wlt.low_price - face.faceValue \"over_face\"\n",
    "        , (wlt.low_price - face.faceValue) / face.faceValue \"over_face_pct\"\n",
    "        , wlt.low_price - min(lpt.low_price) \"price_change\"\n",
    "        , (wlt.low_price - min(lpt.low_price)) / min(lpt.low_price) \"price_change_pct\"\n",
    "        , (wlt.low_price - min(lpt.low_price)) / min(lpt.low_price) <= -.05 \"price_flag\"\n",
    "\n",
    "    from\n",
    "        with_last_time wlt\n",
    "        left join low_price_table lpt\n",
    "            on lpt.eventId = wlt.eventId\n",
    "            and lpt.datetime = wlt.last_datetime\n",
    "\n",
    "        left join events e using (eventId)\n",
    "        left join facevalues face on e.eventDateLocal = face.eventDateLocal\n",
    "\n",
    "    group by 1,2,3,4,5,6,7,8,9\n",
    ";\n",
    "'''\n",
    "\n",
    "qry3b = '''\n",
    "    create index i4 on almost (eventId, yest_date)\n",
    ";\n",
    "'''\n",
    "\n",
    "qry4a = '''\n",
    "    create temporary table yest_prices as\n",
    "    select a.eventId \"eventId\", a.yest_date \"yest_date\", min(yest.currentPrice) \"yest_price\"\n",
    "    from (select distinct eventId, yest_date from almost) a\n",
    "        left join small_listings yest\n",
    "            on yest.eventId = a.eventId\n",
    "            and yest.date = a.yest_date\n",
    "    group by 1,2\n",
    ";\n",
    "'''\n",
    "\n",
    "qry4b = '''\n",
    "    create temporary table output as\n",
    "    select\n",
    "        a.eventId \"eventId\"\n",
    "        , a.eventDateLocal \"eventDateLocal\"\n",
    "        , a.game_URL \"game_URL\"\n",
    "        , a.datetime \"datetime\"\n",
    "        , a.low_price \"low_price\"\n",
    "        , a.last_price \"last_price\"\n",
    "        , a.faceValue \"faceValue\"\n",
    "        , a.over_face \"over_face\"\n",
    "        , a.over_face_pct \"over_face_pct\"\n",
    "        , a.price_change \"price_change\"\n",
    "        , a.price_change_pct \"price_change_pct\"\n",
    "        , a.price_flag \"price_flag\"\n",
    "\n",
    "\n",
    "        , 'https://www.stubhub.com/buy/review?ticket_id=' || max(l.listingId) || '&quantity_selected=' || l.quantity || '&event_id=' || a.eventID \"listing_URL\"\n",
    "        , max(l.listingId) \"listingId\"\n",
    "        , l.quantity \"quantity\"\n",
    "\n",
    "        , yest_price \"yesterdays_best_price\"\n",
    "        , a.low_price - yest_price \"yest_price_change\"\n",
    "        , a.low_price - yest_price <= -5 \"yest_price_flag\"\n",
    "\n",
    "    from\n",
    "        almost a\n",
    "        left join small_listings l\n",
    "            on l.eventId = a.eventId\n",
    "            and l.datetime = a.datetime\n",
    "            and l.currentPrice = a.low_price\n",
    "\n",
    "        left join yest_prices yest\n",
    "            on yest.eventId = a.eventId\n",
    "            and yest.yest_date = a.yest_date\n",
    "\n",
    "    group by 1,2,3,4,5,6,7,8,9,10,11,12,15\n",
    "    order by 1,4 desc\n",
    ";\n",
    "'''\n",
    "\n",
    "qry4c = '''\n",
    "    select * \n",
    "    from output \n",
    "    where listingId not in (1190356184\n",
    "                                , 1182095596\n",
    "                                , 1189448408\n",
    "                                , 1185291783\n",
    "                                , 1188996138\n",
    "                                , 1189714426\n",
    "                                , 1173301639\n",
    "                                , 1191082113\n",
    "                                , 1186321666\n",
    "                                , 1188996152\n",
    "                                , 1194077594\n",
    "                                , 1191332752\n",
    "                                , 1183397283\n",
    "                                , 1192388616\n",
    "                                , 1191244655\n",
    "                                , 1192807045\n",
    "                                , 1194078039\n",
    "                                , 1205118971\n",
    "                                , 1193030368\n",
    "                                , 1186948736\n",
    "                                , 1190420808\n",
    "                                , 1187297513\n",
    "                                , 1191244655\n",
    "                                , 1194078039\n",
    "                                , 1186321666\n",
    "                                , 1193739716\n",
    "                                , 1192834490\n",
    "                                , 1191250685\n",
    "                                , 1202410775\n",
    "                                , 1204728138\n",
    "                                , 1206121146\n",
    "                                , 1205117106\n",
    "                                , 1185179420\n",
    "                                )\n",
    "     order by \"datetime\"\n",
    "'''\n",
    "\n",
    "qry4_check = 'select count(distinct eventId) from output'\n",
    "\n",
    "qry5 = '''\n",
    "    with different_dates as (\n",
    "    select \n",
    "        eventId\n",
    "        , eventDateLocal\n",
    "        , faceValue\n",
    "        , max(datetime) \"most_recent_time\"\n",
    "    from output\n",
    "    group by 1,2,3\n",
    "    having max(datetime) > date('now', '-003 days')\n",
    "\n",
    "    )\n",
    "\n",
    "    , dd2 as (\n",
    "        select \n",
    "            dd.*, max(o.datetime) \"one_week_ago\"\n",
    "        from different_dates dd\n",
    "            left join output o using (eventId)\n",
    "        where \n",
    "            o.datetime <= datetime(dd.most_recent_time,'-007 days')\n",
    "        group by 1,2,3,4\n",
    "    )\n",
    "\n",
    "    , dd3 as (\n",
    "        select \n",
    "            dd2.*, max(o.datetime) \"two_weeks_ago\"\n",
    "        from dd2\n",
    "            left join output o using (eventId)\n",
    "        where \n",
    "            o.datetime <= datetime(dd2.most_recent_time,'-014 days')\n",
    "        group by 1,2,3,4,5\n",
    "    )\n",
    "\n",
    "    , dd4 as (\n",
    "        select \n",
    "            dd3.*, max(o.datetime) \"three_weeks_ago\"\n",
    "        from dd3\n",
    "            left join output o using (eventId)\n",
    "        where \n",
    "            o.datetime <= datetime(dd3.most_recent_time,'-021 days')\n",
    "        group by 1,2,3,4,5,6\n",
    "    )\n",
    "\n",
    "    , dd5 as (\n",
    "        select \n",
    "            dd4.*, max(o.datetime) \"four_weeks_ago\"\n",
    "        from dd4\n",
    "            left join output o using (eventId)\n",
    "        where \n",
    "            o.datetime <= datetime(dd4.most_recent_time,'-028 days')\n",
    "        group by 1,2,3,4,5,6,7\n",
    "    )\n",
    "\n",
    "    select \n",
    "        substr(dd.eventDateLocal,1,10) || ' ' || substr(dd.eventDateLocal,12,5) \"gamedate\"\n",
    "        , dd.eventId \"eventId\"\n",
    "        , dd.faceValue \"face value\"\n",
    "        , date(dd.most_recent_time) \"today\"\n",
    "\n",
    "        , cast(min(o0.low_price) as 'integer') \"today's price\"\n",
    "        , cast(min(o1.low_price) as 'integer') \"last week's price\"\n",
    "        , cast(min(o2.low_price) as 'integer') \"price 2 weeks ago\"\n",
    "        , cast(min(o3.low_price) as 'integer') \"price 3 weeks ago\"\n",
    "        , cast(min(o4.low_price) as 'integer') \"price 4 weeks ago\"\n",
    "\n",
    "        , cast(round(100.0 * (min(o0.low_price) - min(o1.low_price))  / min(o1.low_price), 2) as text) || '%'  \"change since 1 week ago\"\n",
    "        , cast(round(100.0 * (min(o0.low_price) - min(o2.low_price))  / min(o2.low_price), 2) as text) || '%'  \"change since 1 week ago\"\n",
    "        , cast(round(100.0 * (min(o0.low_price) - min(o3.low_price))  / min(o3.low_price), 2) as text) || '%'  \"change since 1 week ago\"\n",
    "        , cast(round(100.0 * (min(o0.low_price) - min(o4.low_price))  / min(o4.low_price), 2) as text) || '%'  \"change since 1 week ago\"\n",
    "\n",
    "    from dd5 dd\n",
    "        left join output o0\n",
    "            on dd.eventId = o0.eventId\n",
    "            and dd.most_recent_time = o0.datetime\n",
    "        left join output o1 \n",
    "            on dd.eventId = o1.eventId\n",
    "            and dd.one_week_ago = o1.datetime\n",
    "        left join output o2\n",
    "            on dd.eventId = o2.eventId\n",
    "            and dd.two_weeks_ago = o2.datetime\n",
    "        left join output o3 \n",
    "            on dd.eventId = o3.eventId\n",
    "            and dd.three_weeks_ago = o3.datetime\n",
    "        left join output o4 \n",
    "            on dd.eventId = o4.eventId\n",
    "            and dd.four_weeks_ago = o4.datetime\n",
    "    group by 1,2,3,4\n",
    "    order by 1\n",
    "'''\n"
   ]
  },
  {
   "cell_type": "code",
   "execution_count": 11,
   "metadata": {
    "collapsed": false
   },
   "outputs": [],
   "source": [
    "file_path = 'C:/Users/Monstar/Python/Stubhub/Cubs'\n",
    "\n",
    "good_file_name = '{}/stubhub_min.db'.format(file_path)\n",
    "copy_file_name = '{}/stubhub_min_for_output.db'.format(file_path)\n",
    "shutil.copy(good_file_name, copy_file_name)\n",
    "\n",
    "db_min = sqlite3.connect(copy_file_name)\n",
    "c = db_min.cursor()"
   ]
  },
  {
   "cell_type": "code",
   "execution_count": 12,
   "metadata": {
    "collapsed": false
   },
   "outputs": [
    {
     "data": {
      "text/plain": [
       "<sqlite3.Cursor at 0x42726c0>"
      ]
     },
     "execution_count": 12,
     "metadata": {},
     "output_type": "execute_result"
    }
   ],
   "source": [
    "c.execute(str(qry0a))"
   ]
  },
  {
   "cell_type": "code",
   "execution_count": 13,
   "metadata": {
    "collapsed": false
   },
   "outputs": [
    {
     "data": {
      "text/plain": [
       "<sqlite3.Cursor at 0x42726c0>"
      ]
     },
     "execution_count": 13,
     "metadata": {},
     "output_type": "execute_result"
    }
   ],
   "source": [
    "c.execute(str(qry0b))"
   ]
  },
  {
   "cell_type": "code",
   "execution_count": 14,
   "metadata": {
    "collapsed": false
   },
   "outputs": [
    {
     "data": {
      "text/plain": [
       "<sqlite3.Cursor at 0x42726c0>"
      ]
     },
     "execution_count": 14,
     "metadata": {},
     "output_type": "execute_result"
    }
   ],
   "source": [
    "c.execute(str(qry0c))"
   ]
  },
  {
   "cell_type": "code",
   "execution_count": 18,
   "metadata": {
    "collapsed": false
   },
   "outputs": [
    {
     "data": {
      "text/plain": [
       "<sqlite3.Cursor at 0x42726c0>"
      ]
     },
     "execution_count": 18,
     "metadata": {},
     "output_type": "execute_result"
    }
   ],
   "source": [
    "c.execute(str(qry0_check))"
   ]
  },
  {
   "cell_type": "code",
   "execution_count": 19,
   "metadata": {
    "collapsed": false
   },
   "outputs": [
    {
     "data": {
      "text/plain": [
       "(38,)"
      ]
     },
     "execution_count": 19,
     "metadata": {},
     "output_type": "execute_result"
    }
   ],
   "source": [
    "c.fetchone()"
   ]
  },
  {
   "cell_type": "code",
   "execution_count": 20,
   "metadata": {
    "collapsed": false
   },
   "outputs": [
    {
     "ename": "OperationalError",
     "evalue": "table low_price_table already exists",
     "output_type": "error",
     "traceback": [
      "\u001b[1;31m---------------------------------------------------------------------------\u001b[0m",
      "\u001b[1;31mOperationalError\u001b[0m                          Traceback (most recent call last)",
      "\u001b[1;32m<ipython-input-20-4f08989352fe>\u001b[0m in \u001b[0;36m<module>\u001b[1;34m()\u001b[0m\n\u001b[1;32m----> 1\u001b[1;33m \u001b[0mc\u001b[0m\u001b[1;33m.\u001b[0m\u001b[0mexecute\u001b[0m\u001b[1;33m(\u001b[0m\u001b[0mstr\u001b[0m\u001b[1;33m(\u001b[0m\u001b[0mqry1a\u001b[0m\u001b[1;33m)\u001b[0m\u001b[1;33m)\u001b[0m\u001b[1;33m\u001b[0m\u001b[0m\n\u001b[0m",
      "\u001b[1;31mOperationalError\u001b[0m: table low_price_table already exists"
     ]
    }
   ],
   "source": [
    "c.execute(str(qry1a))"
   ]
  },
  {
   "cell_type": "code",
   "execution_count": 21,
   "metadata": {
    "collapsed": false
   },
   "outputs": [
    {
     "data": {
      "text/plain": [
       "<sqlite3.Cursor at 0x42726c0>"
      ]
     },
     "execution_count": 21,
     "metadata": {},
     "output_type": "execute_result"
    }
   ],
   "source": [
    "c.execute(str(qry1b))"
   ]
  },
  {
   "cell_type": "code",
   "execution_count": 22,
   "metadata": {
    "collapsed": false
   },
   "outputs": [
    {
     "data": {
      "text/plain": [
       "<sqlite3.Cursor at 0x42726c0>"
      ]
     },
     "execution_count": 22,
     "metadata": {},
     "output_type": "execute_result"
    }
   ],
   "source": [
    "c.execute(str(qry2a))\n"
   ]
  },
  {
   "cell_type": "code",
   "execution_count": 23,
   "metadata": {
    "collapsed": false
   },
   "outputs": [
    {
     "data": {
      "text/plain": [
       "<sqlite3.Cursor at 0x42726c0>"
      ]
     },
     "execution_count": 23,
     "metadata": {},
     "output_type": "execute_result"
    }
   ],
   "source": [
    "c.execute(str(qry2b))"
   ]
  },
  {
   "cell_type": "code",
   "execution_count": 24,
   "metadata": {
    "collapsed": false
   },
   "outputs": [
    {
     "data": {
      "text/plain": [
       "<sqlite3.Cursor at 0x42726c0>"
      ]
     },
     "execution_count": 24,
     "metadata": {},
     "output_type": "execute_result"
    }
   ],
   "source": [
    "c.execute(str(qry2c))"
   ]
  },
  {
   "cell_type": "code",
   "execution_count": 25,
   "metadata": {
    "collapsed": false
   },
   "outputs": [
    {
     "data": {
      "text/plain": [
       "<sqlite3.Cursor at 0x42726c0>"
      ]
     },
     "execution_count": 25,
     "metadata": {},
     "output_type": "execute_result"
    }
   ],
   "source": [
    "c.execute(str(qry3a))"
   ]
  },
  {
   "cell_type": "code",
   "execution_count": 26,
   "metadata": {
    "collapsed": false
   },
   "outputs": [
    {
     "data": {
      "text/plain": [
       "<sqlite3.Cursor at 0x42726c0>"
      ]
     },
     "execution_count": 26,
     "metadata": {},
     "output_type": "execute_result"
    }
   ],
   "source": [
    "c.execute(str(qry3b))"
   ]
  },
  {
   "cell_type": "code",
   "execution_count": 27,
   "metadata": {
    "collapsed": false
   },
   "outputs": [
    {
     "data": {
      "text/plain": [
       "<sqlite3.Cursor at 0x42726c0>"
      ]
     },
     "execution_count": 27,
     "metadata": {},
     "output_type": "execute_result"
    }
   ],
   "source": [
    "c.execute(str(qry4a))"
   ]
  },
  {
   "cell_type": "code",
   "execution_count": 28,
   "metadata": {
    "collapsed": false
   },
   "outputs": [
    {
     "data": {
      "text/plain": [
       "<sqlite3.Cursor at 0x42726c0>"
      ]
     },
     "execution_count": 28,
     "metadata": {},
     "output_type": "execute_result"
    }
   ],
   "source": [
    "c.execute(str(qry4b))"
   ]
  },
  {
   "cell_type": "code",
   "execution_count": 32,
   "metadata": {
    "collapsed": false
   },
   "outputs": [
    {
     "data": {
      "text/plain": [
       "<sqlite3.Cursor at 0x42726c0>"
      ]
     },
     "execution_count": 32,
     "metadata": {},
     "output_type": "execute_result"
    }
   ],
   "source": [
    "c.execute(str(qry4c))"
   ]
  },
  {
   "cell_type": "code",
   "execution_count": 30,
   "metadata": {
    "collapsed": false
   },
   "outputs": [
    {
     "data": {
      "text/plain": [
       "<sqlite3.Cursor at 0x42726c0>"
      ]
     },
     "execution_count": 30,
     "metadata": {},
     "output_type": "execute_result"
    }
   ],
   "source": [
    "c.execute(str(qry4_check))"
   ]
  },
  {
   "cell_type": "code",
   "execution_count": 49,
   "metadata": {
    "collapsed": false
   },
   "outputs": [
    {
     "data": {
      "text/plain": [
       "<sqlite3.Cursor at 0x42726c0>"
      ]
     },
     "execution_count": 49,
     "metadata": {},
     "output_type": "execute_result"
    }
   ],
   "source": [
    "c.execute('''            \n",
    "            select \n",
    "                eventId\n",
    "                , max(datetime) \"most_recent_time\"\n",
    "            from small_listings\n",
    "            group by 1\n",
    "            having max(datetime) > date('now', '-013 days')\n",
    "            order by 2\n",
    "''')"
   ]
  },
  {
   "cell_type": "code",
   "execution_count": 50,
   "metadata": {
    "collapsed": false
   },
   "outputs": [
    {
     "data": {
      "text/plain": [
       "[(9445290, '2016-08-09 09:52:21.327294'),\n",
       " (9445291, '2016-08-10 00:20:51.839845'),\n",
       " (9445308, '2016-08-11 01:28:03.927080'),\n",
       " (9445310, '2016-08-12 04:57:25.816376'),\n",
       " (9445312, '2016-08-14 12:52:12.407043'),\n",
       " (9445325, '2016-08-15 20:46:36.543895'),\n",
       " (9445300, '2016-08-15 23:20:19.660427'),\n",
       " (9445302, '2016-08-15 23:20:19.660427'),\n",
       " (9445313, '2016-08-15 23:20:19.660427'),\n",
       " (9445322, '2016-08-15 23:20:19.660427'),\n",
       " (9445323, '2016-08-15 23:20:19.660427'),\n",
       " (9445298, '2016-08-16 11:59:31.635851'),\n",
       " (9445299, '2016-08-17 10:32:13.268031'),\n",
       " (9445370, '2016-08-18 20:16:13.387009'),\n",
       " (9445369, '2016-08-18 23:56:18.126276'),\n",
       " (9445351, '2016-08-19 20:17:23.925841'),\n",
       " (9445352, '2016-08-19 21:34:27.967320'),\n",
       " (9445368, '2016-08-19 23:24:22.875528'),\n",
       " (9445301, '2016-08-20 01:14:26.434230'),\n",
       " (9445314, '2016-08-20 07:39:35.467991'),\n",
       " (9445349, '2016-08-20 07:39:35.467991')]"
      ]
     },
     "execution_count": 50,
     "metadata": {},
     "output_type": "execute_result"
    }
   ],
   "source": [
    "c.fetchall()"
   ]
  },
  {
   "cell_type": "code",
   "execution_count": null,
   "metadata": {
    "collapsed": true
   },
   "outputs": [],
   "source": []
  },
  {
   "cell_type": "code",
   "execution_count": 10,
   "metadata": {
    "collapsed": true
   },
   "outputs": [],
   "source": [
    "c.close()\n",
    "db_min.close()"
   ]
  },
  {
   "cell_type": "code",
   "execution_count": null,
   "metadata": {
    "collapsed": true
   },
   "outputs": [],
   "source": []
  }
 ],
 "metadata": {
  "kernelspec": {
   "display_name": "Python 3",
   "language": "python",
   "name": "python3"
  },
  "language_info": {
   "codemirror_mode": {
    "name": "ipython",
    "version": 3
   },
   "file_extension": ".py",
   "mimetype": "text/x-python",
   "name": "python",
   "nbconvert_exporter": "python",
   "pygments_lexer": "ipython3",
   "version": "3.5.1"
  }
 },
 "nbformat": 4,
 "nbformat_minor": 0
}
